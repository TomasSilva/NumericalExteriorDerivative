{
 "cells": [
  {
   "cell_type": "code",
   "execution_count": 6,
   "id": "b03b824a",
   "metadata": {},
   "outputs": [],
   "source": [
    "# Imports\n",
    "import numpy as np\n",
    "import itertools"
   ]
  },
  {
   "cell_type": "markdown",
   "id": "347d9354",
   "metadata": {},
   "source": [
    "Declacaration of the Euclidean Space $\\mathbb{R}^3$"
   ]
  },
  {
   "cell_type": "code",
   "execution_count": 7,
   "id": "c4037ec4",
   "metadata": {},
   "outputs": [],
   "source": [
    "M = EuclideanSpace(3, 'M', start_index=1)\n",
    "X.<x,y,z> = M.chart()\n",
    "\n",
    "eX = X.frame()\n",
    "dX = X.coframe()\n",
    "\n"
   ]
  },
  {
   "cell_type": "markdown",
   "id": "1e953a63",
   "metadata": {},
   "source": [
    "Declaration of a 0-form in $\\mathbb{R}^3$ (scalar field)"
   ]
  },
  {
   "cell_type": "code",
   "execution_count": null,
   "id": "8c1b61ef",
   "metadata": {},
   "outputs": [
    {
     "data": {
      "text/plain": [
       "M → ℝ\n",
       "(x, y, z) ↦ x^2 + y^2 + z^2"
      ]
     },
     "execution_count": 3,
     "metadata": {},
     "output_type": "execute_result"
    }
   ],
   "source": [
    "f = M.scalar_field(x^2+y^2+z^2)\n",
    "f.display()"
   ]
  },
  {
   "cell_type": "markdown",
   "id": "d9d04992",
   "metadata": {},
   "source": [
    "Declaration of $\\omega \\in \\Omega^1(\\mathbb{R}^3)$\n",
    "\n",
    "See Example 3 in the paper"
   ]
  },
  {
   "cell_type": "code",
   "execution_count": 9,
   "id": "3e09712a",
   "metadata": {},
   "outputs": [
    {
     "data": {
      "text/plain": [
       "a = x dx + y dy + z dz"
      ]
     },
     "execution_count": 9,
     "metadata": {},
     "output_type": "execute_result"
    }
   ],
   "source": [
    "omega = M.diff_form(1, {eX:[x,y,z]}, name='a')\n",
    "omega.display(X)"
   ]
  },
  {
   "cell_type": "markdown",
   "id": "043adc34",
   "metadata": {},
   "source": [
    "Declaration of $\\omega' \\in \\Omega^2(\\mathbb{R}^3)$\n",
    "\n",
    "See Example 4 in the paper"
   ]
  },
  {
   "cell_type": "code",
   "execution_count": 11,
   "id": "2020dfa0",
   "metadata": {},
   "outputs": [
    {
     "data": {
      "text/plain": [
       "b = x dy∧dz"
      ]
     },
     "execution_count": 11,
     "metadata": {},
     "output_type": "execute_result"
    }
   ],
   "source": [
    "omegap = M.diff_form(2, name='b')\n",
    "omegap[eX, 1, 2] = 0 #dx^dy\n",
    "omegap[eX, 1, 3] = 0 #dx^dz\n",
    "omegap[eX, 2, 3] = x #dy^dz\n",
    "omegap.display(X)"
   ]
  },
  {
   "cell_type": "markdown",
   "id": "7f26139f",
   "metadata": {},
   "source": [
    "# Black box sampler used to obtain numerical values of a $k$-form in $\\mathbb{R}^3$ at a given point\n",
    "See Algorithm 1 in the paper"
   ]
  },
  {
   "cell_type": "code",
   "execution_count": 12,
   "id": "8e6ad357",
   "metadata": {},
   "outputs": [],
   "source": [
    "def numerical_sampler_kform(M, k_form, point):\n",
    "    \"\"\"\n",
    "    Sample numerical values of a k-form at a point\n",
    "    :param M: manifold\n",
    "    :param k_form: k-form to sample\n",
    "    :param point: point at which to sample\n",
    "    :return: numerical values of the k-form at the point as a tensor\n",
    "    \"\"\"\n",
    "    \n",
    "    # Check if the k-form is a 0-form (scalar field)\n",
    "    if k_form.degree() == 0: \n",
    "        p = M.point(point)\n",
    "        return np.array(float(k_form(p)))\n",
    "    \n",
    "    if k_form.degree() == 1:\n",
    "        p = M.point(point)\n",
    "        X.<x,y,z> = M.chart()\n",
    "        eX = X.frame()\n",
    "        return np.array([float(k_form(eX[i])(p)) for i in range(1,M.dimension()+1)])\n",
    "    \n",
    "    if k_form.degree() == 2:\n",
    "        p = M.point(point)\n",
    "        X.<x,y,z> = M.chart()\n",
    "        eX = X.frame()\n",
    "        return np.array([[float(k_form(eX[i], eX[j])(p)) for j in range(1,M.dimension()+1)] for i in range(1,M.dimension()+1)])\n",
    "    \n",
    "    if k_form.degree() == 3:\n",
    "        p = M.point(point)\n",
    "        X.<x,y,z> = M.chart()\n",
    "        eX = X.frame()\n",
    "        return np.array([[[float(k_form(eX[i], eX[j], eX[k])(p)) for k in range(1,M.dimension()+1)] for j in range(1,M.dimension()+1)] for i in range(1,M.dimension()+1)])"
   ]
  },
  {
   "cell_type": "markdown",
   "id": "f58772dc",
   "metadata": {},
   "source": [
    "# Numerical exterior derivative in $\\mathbb{R}^3$\n",
    "See Algorithm 2 in the paper"
   ]
  },
  {
   "cell_type": "code",
   "execution_count": 14,
   "id": "0da5e6eb",
   "metadata": {},
   "outputs": [],
   "source": [
    "def numerical_exterior_derivative(M, k_form, point, epsilon=1e-5):\n",
    "    \"\"\"\n",
    "    Sample numerical values of the exterior derivative of a k-form at a point\n",
    "    :param M: manifold\n",
    "    :param k_form: k-form to sample\n",
    "    :param point: point at which to sample\n",
    "    :return: numerical values of the exterior derivative of the k-form at the point as a tensor\n",
    "    \"\"\"\n",
    "    \n",
    "    # If the k-form is a 0-form (scalar field)\n",
    "    if k_form.degree() == 0: \n",
    "        dw = np.zeros(3)\n",
    "        directions = [np.array(np.eye(3, dtype=int)[i]) for i in range(3)]\n",
    "        point = np.array(point)\n",
    "        for i in range(3):\n",
    "            dw[i] = (1/(2*epsilon))*(numerical_sampler_kform(M, k_form, point + epsilon*directions[i]) - numerical_sampler_kform(M, k_form, point - epsilon*directions[i]))\n",
    "        \n",
    "        return dw\n",
    "    \n",
    "    # If the k-form is a 1-form\n",
    "    elif k_form.degree() == 1:\n",
    "        dw = np.zeros((3,3))\n",
    "        directions = [np.array(np.eye(3, dtype=int)[i]) for i in range(3)]\n",
    "        point = np.array(point)\n",
    "        for i in range(3):\n",
    "            for j in range(3):\n",
    "                if i!=j:\n",
    "                    dw[i,j] = (1/(2*epsilon))*(numerical_sampler_kform(M, k_form, point -  epsilon*directions[j])[i] +\\\n",
    "                                            numerical_sampler_kform(M, k_form, point +  epsilon*directions[i])[j] -\\\n",
    "                                            numerical_sampler_kform(M, k_form, point +  epsilon*directions[j])[i] -\\\n",
    "                                            numerical_sampler_kform(M, k_form, point -  epsilon*directions[i])[j])\n",
    "        \n",
    "        return dw\n",
    "    \n",
    "    # If the k-form is a 2-form\n",
    "    elif k_form.degree() == 2:\n",
    "        dw = np.zeros((3,3,3))\n",
    "        directions = [np.array(np.eye(3, dtype=int)[i]) for i in range(3)]\n",
    "        point = np.array(point)\n",
    "        for i in range(3):\n",
    "            for j in range(3):\n",
    "                for k in range(3):\n",
    "                    if i!=j and j!=k and i!=k:\n",
    "                        dw[i,j,k] = (1/(2*epsilon))*(+numerical_sampler_kform(M, k_form, point +  epsilon*directions[i])[j,k] \\\n",
    "                                            -numerical_sampler_kform(M, k_form, point -  epsilon*directions[i])[j,k] \\\n",
    "                                            -numerical_sampler_kform(M, k_form, point +  epsilon*directions[j])[i,k] \\\n",
    "                                            +numerical_sampler_kform(M, k_form, point -  epsilon*directions[j])[i,k] \\\n",
    "                                            +numerical_sampler_kform(M, k_form, point +  epsilon*directions[k])[i,j] \\\n",
    "                                            -numerical_sampler_kform(M, k_form, point -  epsilon*directions[k])[i,j])\n",
    "                                            \n",
    "        return dw\n",
    "    \n",
    "    elif k_form.degree() >= 3:\n",
    "        assert False, \"Not defined in 3D space.\"\n",
    "        \n",
    "        \n",
    "        "
   ]
  },
  {
   "cell_type": "markdown",
   "id": "02058e40",
   "metadata": {},
   "source": [
    "# Usage examples"
   ]
  },
  {
   "cell_type": "markdown",
   "id": "e39087a4",
   "metadata": {},
   "source": [
    "## Example 3 in the paper:"
   ]
  },
  {
   "cell_type": "code",
   "execution_count": 15,
   "id": "ddb29de7",
   "metadata": {},
   "outputs": [
    {
     "data": {
      "text/plain": [
       "array([1., 1., 1.])"
      ]
     },
     "execution_count": 15,
     "metadata": {},
     "output_type": "execute_result"
    }
   ],
   "source": [
    "numerical_sampler_kform(M, omega, (1,1,1))"
   ]
  },
  {
   "cell_type": "code",
   "execution_count": 16,
   "id": "485f42ed",
   "metadata": {},
   "outputs": [
    {
     "data": {
      "text/plain": [
       "array([[0., 0., 0.],\n",
       "       [0., 0., 0.],\n",
       "       [0., 0., 0.]])"
      ]
     },
     "execution_count": 16,
     "metadata": {},
     "output_type": "execute_result"
    }
   ],
   "source": [
    "numerical_exterior_derivative(M, omega, (1,1,1))"
   ]
  },
  {
   "cell_type": "markdown",
   "id": "161e9d70",
   "metadata": {},
   "source": [
    "## Example 4 in the paper: "
   ]
  },
  {
   "cell_type": "code",
   "execution_count": 17,
   "id": "f4299bc1",
   "metadata": {},
   "outputs": [
    {
     "data": {
      "text/plain": [
       "array([[ 0.,  0.,  0.],\n",
       "       [ 0.,  0.,  1.],\n",
       "       [ 0., -1.,  0.]])"
      ]
     },
     "execution_count": 17,
     "metadata": {},
     "output_type": "execute_result"
    }
   ],
   "source": [
    "numerical_sampler_kform(M, omegap, (1,2,3))"
   ]
  },
  {
   "cell_type": "code",
   "execution_count": 18,
   "id": "b2bdaf51",
   "metadata": {},
   "outputs": [
    {
     "data": {
      "text/plain": [
       "array([[[ 0.,  0.,  0.],\n",
       "        [ 0.,  0.,  1.],\n",
       "        [ 0., -1.,  0.]],\n",
       "\n",
       "       [[ 0.,  0., -1.],\n",
       "        [ 0.,  0.,  0.],\n",
       "        [ 1.,  0.,  0.]],\n",
       "\n",
       "       [[ 0.,  1.,  0.],\n",
       "        [-1.,  0.,  0.],\n",
       "        [ 0.,  0.,  0.]]])"
      ]
     },
     "execution_count": 18,
     "metadata": {},
     "output_type": "execute_result"
    }
   ],
   "source": [
    "numerical_exterior_derivative(M, omegap, (1,2,3)) "
   ]
  }
 ],
 "metadata": {
  "kernelspec": {
   "display_name": "SageMath 10.5",
   "language": "sage",
   "name": "SageMath-10.5"
  },
  "language_info": {
   "codemirror_mode": {
    "name": "ipython",
    "version": 3
   },
   "file_extension": ".py",
   "mimetype": "text/x-python",
   "name": "python",
   "nbconvert_exporter": "python",
   "pygments_lexer": "ipython3",
   "version": "3.12.5"
  }
 },
 "nbformat": 4,
 "nbformat_minor": 5
}
