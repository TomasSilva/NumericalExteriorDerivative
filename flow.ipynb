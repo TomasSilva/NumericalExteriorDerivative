{
 "cells": [
  {
   "cell_type": "code",
   "execution_count": 253,
   "id": "8c7c6d51",
   "metadata": {},
   "outputs": [],
   "source": [
    "import numpy as np\n",
    "import itertools"
   ]
  },
  {
   "cell_type": "code",
   "execution_count": 254,
   "id": "62c3e072",
   "metadata": {},
   "outputs": [],
   "source": [
    "M = EuclideanSpace(3, 'M', start_index=1)\n",
    "X.<x,y,z> = M.chart()\n",
    "# e = M.vector_frame('e')\n",
    "# de = M.coframes()[1] \n",
    "\n",
    "eX = X.frame()\n",
    "dX = X.coframe()\n"
   ]
  },
  {
   "cell_type": "code",
   "execution_count": 255,
   "id": "cd3eed3e",
   "metadata": {},
   "outputs": [
    {
     "data": {
      "text/plain": [
       "M → ℝ\n",
       "(x, y, z) ↦ x^2"
      ]
     },
     "execution_count": 255,
     "metadata": {},
     "output_type": "execute_result"
    }
   ],
   "source": [
    "# Declaration of 0-form (scalar field)\n",
    "f = M.scalar_field(x^2)\n",
    "f.display()\n",
    "\n",
    "# Evaluation of 0-form\n",
    "# p = M.point((1,2,3))\n",
    "# f(p)"
   ]
  },
  {
   "cell_type": "code",
   "execution_count": 340,
   "id": "36ffb1dc",
   "metadata": {},
   "outputs": [
    {
     "data": {
      "text/plain": [
       "a = x*y*z dx + x*y*z dy + x*y*z dz"
      ]
     },
     "execution_count": 340,
     "metadata": {},
     "output_type": "execute_result"
    }
   ],
   "source": [
    "# Declaration 1-form\n",
    "a = M.diff_form(1, {eX:[x*y*z, x*y*z, x*y*z]}, name='a')\n",
    "a.display(X)\n",
    "# a[X, :] = [x*y*z, 0, x*y*z]\n",
    "# a.display(eX)\n",
    "\n",
    "# evaluation 1-form\n",
    "# a(eX[1])(p)"
   ]
  },
  {
   "cell_type": "code",
   "execution_count": 257,
   "id": "c02f4669",
   "metadata": {},
   "outputs": [
    {
     "data": {
      "text/plain": [
       "b = x*y*z dx∧dy + x*y^2 dx∧dz + (x^2*y^3*z - 2*x*y) dy∧dz"
      ]
     },
     "execution_count": 257,
     "metadata": {},
     "output_type": "execute_result"
    }
   ],
   "source": [
    "b = M.diff_form(2, name='b')\n",
    "b[eX, 1, 2] = x*y*z #dx^dy\n",
    "b[eX, 1, 3] = x*y^2 #dx^dz\n",
    "b[eX, 2, 3] = z*x^2*y^3-2*x*y #dy^dz\n",
    "b.display(X)\n",
    "\n",
    "\n",
    "# evaluation 1-form\n",
    "# p = M.point((1,2,3))\n",
    "# b(eX[1], eX[2])(p)"
   ]
  },
  {
   "cell_type": "code",
   "execution_count": 258,
   "id": "5b882136",
   "metadata": {},
   "outputs": [],
   "source": [
    "def numerical_sampler_kform(M, k_form, point):\n",
    "    \"\"\"\n",
    "    Sample numerical values of a k-form at a point\n",
    "    :param M: manifold\n",
    "    :param k_form: k-form to sample\n",
    "    :param point: point at which to sample\n",
    "    :return: numerical values of the k-form at the point as a tensor\n",
    "    \"\"\"\n",
    "    \n",
    "    # Check if the k-form is a 0-form (scalar field)\n",
    "    if k_form.degree() == 0: \n",
    "        p = M.point(point)\n",
    "        return np.array(float(k_form(p)))\n",
    "    \n",
    "    if k_form.degree() == 1:\n",
    "        p = M.point(point)\n",
    "        X.<x,y,z> = M.chart()\n",
    "        eX = X.frame()\n",
    "        return np.array([float(k_form(eX[i])(p)) for i in range(1,M.dimension()+1)])\n",
    "    \n",
    "    if k_form.degree() == 2:\n",
    "        p = M.point(point)\n",
    "        X.<x,y,z> = M.chart()\n",
    "        eX = X.frame()\n",
    "        return np.array([[float(k_form(eX[i], eX[j])(p)) for j in range(1,M.dimension()+1)] for i in range(1,M.dimension()+1)])\n",
    "    \n",
    "    if k_form.degree() == 3:\n",
    "        p = M.point(point)\n",
    "        X.<x,y,z> = M.chart()\n",
    "        eX = X.frame()\n",
    "        return np.array([[[float(k_form(eX[i], eX[j], eX[k])(p)) for k in range(1,M.dimension()+1)] for j in range(1,M.dimension()+1)] for i in range(1,M.dimension()+1)])"
   ]
  },
  {
   "cell_type": "code",
   "execution_count": 259,
   "id": "9042fcc7",
   "metadata": {},
   "outputs": [],
   "source": [
    "def sample_numerical_kform_neighborhood_val(M, k_form, point, epsilon=1e-5):\n",
    "        form = k_form\n",
    "        p = np.array(point)\n",
    "        directions = [np.array(np.eye(3, dtype=int)[i]) for i in range(3)]\n",
    "        values = {\"0\": [numerical_sampler_kform(M, form, p)],\n",
    "                        \"1\": [numerical_sampler_kform(M, form, p - epsilon*directions[0]), numerical_sampler_kform(M, form, p + epsilon*directions[0])],\n",
    "                        \"2\": [numerical_sampler_kform(M, form, p - epsilon*directions[1]), numerical_sampler_kform(M, form, p + epsilon*directions[1])],\n",
    "                        \"3\": [numerical_sampler_kform(M, form, p - epsilon*directions[2]), numerical_sampler_kform(M, form, p + epsilon*directions[2])]}\n",
    "        return values\n",
    "    "
   ]
  },
  {
   "cell_type": "code",
   "execution_count": 260,
   "id": "1e27bbb8",
   "metadata": {},
   "outputs": [],
   "source": [
    "def numerical_d(k_form_neighborhood_vals, e=1e-5):\n",
    "    \"\"\"\n",
    "    Sample numerical values of the exterior derivative of a k-form at a point\n",
    "    :param M: manifold\n",
    "    :param k_form: k-form to sample\n",
    "    :param point: point at which to sample\n",
    "    :return: numerical values of the exterior derivative of the k-form at the point as a tensor\n",
    "    \"\"\"\n",
    "    k = len(k_form_neighborhood_vals[\"0\"][0].shape)\n",
    "    \n",
    "    # If the k-form is a 0-form (scalar field)\n",
    "    if k == 0: \n",
    "        dw = np.zeros(3)\n",
    "        for i in range(3):\n",
    "            dw[i] = (1/(2*e))*(k_form_neighborhood_vals[str(i+1)][1] - k_form_neighborhood_vals[str(i+1)][0])\n",
    "        return dw\n",
    "    \n",
    "    # If the k-form is a 1-form\n",
    "    elif k == 1:\n",
    "        dw = np.zeros((3,3))\n",
    "        for i in range(3):\n",
    "            for j in range(3):\n",
    "                if i!=j:\n",
    "                    dw[i,j] = (1/(2*e))*(k_form_neighborhood_vals[str(j+1)][0][i] +\\\n",
    "                                                k_form_neighborhood_vals[str(i+1)][1][j] -\\\n",
    "                                                k_form_neighborhood_vals[str(j+1)][1][i] -\\\n",
    "                                                k_form_neighborhood_vals[str(i+1)][0][j])\n",
    "        \n",
    "        return dw\n",
    "    \n",
    "    # If the k-form is a 2-form\n",
    "    elif k == 2:\n",
    "        dw = np.zeros((3,3,3))      \n",
    "        for i in range(3):\n",
    "            for j in range(3):\n",
    "                for k in range(3):\n",
    "                    if i!=j and j!=k and i!=k:\n",
    "                        dw[i,j,k] = (1/(2*e))*(+k_form_neighborhood_vals[str(i+1)][1][j,k] -\\\n",
    "                                                k_form_neighborhood_vals[str(i+1)][0][j,k] -\\\n",
    "                                                k_form_neighborhood_vals[str(j+1)][1][i,k] +\\\n",
    "                                                k_form_neighborhood_vals[str(j+1)][0][i,k] +\\\n",
    "                                                k_form_neighborhood_vals[str(k+1)][1][i,j] -\\\n",
    "                                                k_form_neighborhood_vals[str(k+1)][0][i,j])\n",
    "        return dw\n",
    "    \n",
    "    elif k >= 3:\n",
    "        return np.zeros((3,)*4)\n",
    "        \n",
    "        \n",
    "        "
   ]
  },
  {
   "cell_type": "code",
   "execution_count": 320,
   "id": "ae064daa",
   "metadata": {},
   "outputs": [],
   "source": [
    "def count_inversions(arr):\n",
    "    \"\"\"Count inversions in O(n log n) time via merge sort\"\"\"\n",
    "    def merge_sort(lst):\n",
    "        if len(lst) <= 1:\n",
    "            return lst, 0\n",
    "        mid = len(lst) // 2\n",
    "        left, inv_l = merge_sort(lst[:mid])\n",
    "        right, inv_r = merge_sort(lst[mid:])\n",
    "        merged = []\n",
    "        i = j = inv_m = 0\n",
    "        while i < len(left) and j < len(right):\n",
    "            if left[i] <= right[j]:\n",
    "                merged.append(left[i])\n",
    "                i += 1\n",
    "            else:\n",
    "                merged.append(right[j])\n",
    "                inv_m += len(left) - i  # key line\n",
    "                j += 1\n",
    "        merged += left[i:]\n",
    "        merged += right[j:]\n",
    "        return merged, inv_l + inv_r + inv_m\n",
    "    _, count = merge_sort(arr)\n",
    "    return count\n",
    "\n",
    "def perm_sign(p):\n",
    "    \"\"\"Fast sign using inversion count\"\"\"\n",
    "    return 1 if count_inversions(p) % 2 == 0 else -1\n",
    "\n",
    "def numerical_star(k_form_p_vals):\n",
    "    k = len(k_form_p_vals.shape)\n",
    "    \n",
    "    if k == 0: \n",
    "        star = np.zeros((3,3,3))\n",
    "        perms = list(itertools.permutations([0, 1, 2]))\n",
    "        for p in perms:\n",
    "            sign = perm_sign(p)\n",
    "            star[p[0], p[1], p[2]] = sign * k_form_p_vals\n",
    "        return star\n",
    "    \n",
    "    elif k == 1:\n",
    "        star = np.zeros((3,3))\n",
    "        perms = list(itertools.combinations([0, 1, 2], 2))\n",
    "        \n",
    "        for p in perms:\n",
    "            star[p[0], p[1]] = ((-1)**(1+p[0]+p[1]))*k_form_p_vals[list(set([0,1,2]) - set([p[0],p[1]]))[0]]\n",
    "        star = star - star.transpose()\n",
    "        return star\n",
    "    \n",
    "    elif k == 2:\n",
    "        star = np.zeros(3)\n",
    "        \n",
    "        for p in range(3):\n",
    "            star[p] = ((-1)**p)*(k_form_p_vals[list(set([0,1,2]) - set([p]))[0], list(set([0,1,2]) - set([p]))[1]])\n",
    "        return star\n",
    "    \n",
    "    elif k == 3:\n",
    "        star = k_form_p_vals[0,1,2]\n",
    "        return np.array(star)\n",
    "    \n",
    "    else:\n",
    "        assert False, \"Not defined.\"\n",
    "        "
   ]
  },
  {
   "cell_type": "code",
   "execution_count": 264,
   "id": "2145dc96",
   "metadata": {},
   "outputs": [
    {
     "data": {
      "text/plain": [
       "array([[[ 0.,  0.,  0.],\n",
       "        [ 0.,  0., -0.],\n",
       "        [ 0.,  0.,  0.]],\n",
       "\n",
       "       [[ 0.,  0.,  0.],\n",
       "        [ 0.,  0.,  0.],\n",
       "        [-0.,  0.,  0.]],\n",
       "\n",
       "       [[ 0., -0.,  0.],\n",
       "        [ 0.,  0.,  0.],\n",
       "        [ 0.,  0.,  0.]]])"
      ]
     },
     "execution_count": 264,
     "metadata": {},
     "output_type": "execute_result"
    }
   ],
   "source": [
    "# computing d^2\n",
    "p = (1,2,3)\n",
    "form = a\n",
    "initial_f = sample_numerical_kform_neighborhood_val(M, form, p)\n",
    "directions = [np.array(np.eye(3, dtype=int)[i]) for i in range(3)]\n",
    "epsilon = 1e-5\n",
    "\n",
    "dfs = {\n",
    "    \"0\": [numerical_d(initial_f)],\n",
    "    \"1\": [numerical_d(sample_numerical_kform_neighborhood_val(M, form, p - epsilon*directions[0])), numerical_d(sample_numerical_kform_neighborhood_val(M, form, p + epsilon*directions[0]))],\n",
    "    \"2\": [numerical_d(sample_numerical_kform_neighborhood_val(M, form, p - epsilon*directions[1])), numerical_d(sample_numerical_kform_neighborhood_val(M, form, p + epsilon*directions[1]))],\n",
    "    \"3\": [numerical_d(sample_numerical_kform_neighborhood_val(M, form, p - epsilon*directions[2])), numerical_d(sample_numerical_kform_neighborhood_val(M, form, p + epsilon*directions[2]))]\n",
    "}\n",
    "\n",
    "np.round(numerical_d(dfs))"
   ]
  },
  {
   "cell_type": "code",
   "execution_count": 342,
   "id": "268fe549",
   "metadata": {},
   "outputs": [],
   "source": [
    "# d*d* at any point\n",
    "def d_star_d_star_at_p(point, form):\n",
    "    # TODO: remove the need of sampler\n",
    "    directions = [np.array(np.eye(3, dtype=int)[i]) for i in range(3)]\n",
    "    epsilon = 1e-5\n",
    "\n",
    "    d_star_at_p_neighborhood = {\n",
    "        \"0\": [numerical_d({k: [numerical_star(arr) for arr in v] for k, v in sample_numerical_kform_neighborhood_val(M, form, point).items()})],\n",
    "        \"1\": [numerical_d({k: [numerical_star(arr) for arr in v] for k, v in sample_numerical_kform_neighborhood_val(M, form, point - epsilon*directions[0]).items()}), numerical_d({k: [numerical_star(arr) for arr in v] for k, v in sample_numerical_kform_neighborhood_val(M, form, point + epsilon*directions[0]).items()})],\n",
    "        \"2\": [numerical_d({k: [numerical_star(arr) for arr in v] for k, v in sample_numerical_kform_neighborhood_val(M, form, point - epsilon*directions[1]).items()}), numerical_d({k: [numerical_star(arr) for arr in v] for k, v in sample_numerical_kform_neighborhood_val(M, form, point + epsilon*directions[1]).items()})],\n",
    "        \"3\": [numerical_d({k: [numerical_star(arr) for arr in v] for k, v in sample_numerical_kform_neighborhood_val(M, form, point - epsilon*directions[2]).items()}), numerical_d({k: [numerical_star(arr) for arr in v] for k, v in sample_numerical_kform_neighborhood_val(M, form, point + epsilon*directions[2]).items()})]\n",
    "    }\n",
    "\n",
    "    d_star_d_star_at_p = numerical_d({k: [numerical_star(arr) for arr in v] for k, v in d_star_at_p_neighborhood.items()})\n",
    "    return d_star_d_star_at_p"
   ]
  },
  {
   "cell_type": "code",
   "execution_count": 343,
   "id": "37153106",
   "metadata": {},
   "outputs": [],
   "source": [
    "# *d*d at any point\n",
    "def star_d_star_d_at_p(point, form):\n",
    "    # TODO: remove the need of sampler\n",
    "    star_d_at_neighborhood =  {\n",
    "        \"0\": [numerical_star(numerical_d(sample_numerical_kform_neighborhood_val(M, form, point)))],\n",
    "        \"1\": [numerical_star(numerical_d(sample_numerical_kform_neighborhood_val(M, form, point - epsilon*directions[0]))), numerical_star(numerical_d(sample_numerical_kform_neighborhood_val(M, form, point + epsilon*directions[0])))],\n",
    "        \"2\": [numerical_star(numerical_d(sample_numerical_kform_neighborhood_val(M, form, point - epsilon*directions[1]))), numerical_star(numerical_d(sample_numerical_kform_neighborhood_val(M, form, point + epsilon*directions[1])))],\n",
    "        \"3\": [numerical_star(numerical_d(sample_numerical_kform_neighborhood_val(M, form, point - epsilon*directions[2]))), numerical_star(numerical_d(sample_numerical_kform_neighborhood_val(M, form, point + epsilon*directions[2])))]\n",
    "    }\n",
    "\n",
    "    star_d_star_d_at_p = numerical_star(numerical_d(star_d_at_neighborhood))\n",
    "    return star_d_star_d_at_p"
   ]
  },
  {
   "cell_type": "code",
   "execution_count": 344,
   "id": "9684415d",
   "metadata": {},
   "outputs": [],
   "source": [
    "# defining Hodge Laplacian\n",
    "def Hodge_Laplacian_at_p(point, form):\n",
    "    return d_star_d_star_at_p(point, form) + star_d_star_d_at_p(point, form)"
   ]
  },
  {
   "cell_type": "code",
   "execution_count": 345,
   "id": "9f312c31",
   "metadata": {},
   "outputs": [
    {
     "data": {
      "text/plain": [
       "*d*da = (y + z) dx + (x + z) dy + (x + y) dz"
      ]
     },
     "execution_count": 345,
     "metadata": {},
     "output_type": "execute_result"
    }
   ],
   "source": [
    "(a.exterior_derivative().hodge_dual().exterior_derivative().hodge_dual()).display(X)"
   ]
  }
 ],
 "metadata": {
  "kernelspec": {
   "display_name": "SageMath 10.5",
   "language": "sage",
   "name": "SageMath-10.5"
  },
  "language_info": {
   "codemirror_mode": {
    "name": "ipython",
    "version": 3
   },
   "file_extension": ".py",
   "mimetype": "text/x-python",
   "name": "python",
   "nbconvert_exporter": "python",
   "pygments_lexer": "ipython3",
   "version": "3.12.5"
  }
 },
 "nbformat": 4,
 "nbformat_minor": 5
}
