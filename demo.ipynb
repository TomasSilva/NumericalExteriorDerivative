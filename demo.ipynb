{
 "cells": [
  {
   "cell_type": "code",
   "execution_count": 1,
   "id": "b03b824a",
   "metadata": {},
   "outputs": [],
   "source": [
    "import numpy as np\n",
    "import itertools"
   ]
  },
  {
   "cell_type": "code",
   "execution_count": 2,
   "id": "c4037ec4",
   "metadata": {},
   "outputs": [],
   "source": [
    "M = EuclideanSpace(3, 'M', start_index=1)\n",
    "X.<x,y,z> = M.chart()\n",
    "# e = M.vector_frame('e')\n",
    "# de = M.coframes()[1] \n",
    "\n",
    "eX = X.frame()\n",
    "dX = X.coframe()\n",
    "\n"
   ]
  },
  {
   "cell_type": "code",
   "execution_count": 3,
   "id": "8c1b61ef",
   "metadata": {},
   "outputs": [
    {
     "data": {
      "text/plain": [
       "M → ℝ\n",
       "(x, y, z) ↦ x^2"
      ]
     },
     "execution_count": 3,
     "metadata": {},
     "output_type": "execute_result"
    }
   ],
   "source": [
    "# Declaration of 0-form (scalar field)\n",
    "f = M.scalar_field(x^2)\n",
    "f.display()\n",
    "\n",
    "# Evaluation of 0-form\n",
    "# p = M.point((1,2,3))\n",
    "# f(p)\n"
   ]
  },
  {
   "cell_type": "code",
   "execution_count": 31,
   "id": "3e09712a",
   "metadata": {},
   "outputs": [
    {
     "data": {
      "text/plain": [
       "a = x*y*z dx + x*y*z dy + x*y*z dz"
      ]
     },
     "execution_count": 31,
     "metadata": {},
     "output_type": "execute_result"
    }
   ],
   "source": [
    "# Declaration 1-form\n",
    "a = M.diff_form(1, {eX:[x*y*z, x*y*z, x*y*z]}, name='a')\n",
    "a.display(X)\n",
    "# a[X, :] = [x*y*z, 0, x*y*z]\n",
    "# a.display(eX)\n",
    "\n",
    "# evaluation 1-form\n",
    "# a(eX[1])(p)"
   ]
  },
  {
   "cell_type": "code",
   "execution_count": 5,
   "id": "a288b536",
   "metadata": {},
   "outputs": [
    {
     "data": {
      "text/plain": [
       "[     0      0      0]\n",
       "[     0      0  x*y*z]\n",
       "[     0 -x*y*z      0]"
      ]
     },
     "execution_count": 5,
     "metadata": {},
     "output_type": "execute_result"
    }
   ],
   "source": [
    "a.hodge_dual().comp(X.frame())[:, X]"
   ]
  },
  {
   "cell_type": "code",
   "execution_count": 6,
   "id": "2020dfa0",
   "metadata": {},
   "outputs": [
    {
     "data": {
      "text/plain": [
       "b = x*y*z dx∧dy + x*y^2 dx∧dz + (x^2*y^3*z - 2*x*y) dy∧dz"
      ]
     },
     "execution_count": 6,
     "metadata": {},
     "output_type": "execute_result"
    }
   ],
   "source": [
    "# Declaration 2-form\n",
    "b = M.diff_form(2, name='b')\n",
    "b[eX, 1, 2] = x*y*z #dx^dy\n",
    "b[eX, 1, 3] = x*y^2 #dx^dz\n",
    "b[eX, 2, 3] = z*x^2*y^3-2*x*y #dy^dz\n",
    "b.display(X)\n",
    "\n",
    "\n",
    "# evaluation 1-form\n",
    "# p = M.point((1,2,3))\n",
    "# b(eX[1], eX[2])(p)"
   ]
  },
  {
   "cell_type": "code",
   "execution_count": 93,
   "id": "64903411",
   "metadata": {},
   "outputs": [
    {
     "data": {
      "text/plain": [
       "array([6., 0., 0.])"
      ]
     },
     "execution_count": 93,
     "metadata": {},
     "output_type": "execute_result"
    }
   ],
   "source": [
    "numerical_sampler_kform(M, a, (1,2,3))"
   ]
  },
  {
   "cell_type": "code",
   "execution_count": 7,
   "id": "8e6ad357",
   "metadata": {},
   "outputs": [],
   "source": [
    "def numerical_sampler_kform(M, k_form, point):\n",
    "    \"\"\"\n",
    "    Sample numerical values of a k-form at a point\n",
    "    :param M: manifold\n",
    "    :param k_form: k-form to sample\n",
    "    :param point: point at which to sample\n",
    "    :return: numerical values of the k-form at the point as a tensor\n",
    "    \"\"\"\n",
    "    \n",
    "    # Check if the k-form is a 0-form (scalar field)\n",
    "    if k_form.degree() == 0: \n",
    "        p = M.point(point)\n",
    "        return np.array(float(k_form(p)))\n",
    "    \n",
    "    if k_form.degree() == 1:\n",
    "        p = M.point(point)\n",
    "        X.<x,y,z> = M.chart()\n",
    "        eX = X.frame()\n",
    "        return np.array([float(k_form(eX[i])(p)) for i in range(1,M.dimension()+1)])\n",
    "    \n",
    "    if k_form.degree() == 2:\n",
    "        p = M.point(point)\n",
    "        X.<x,y,z> = M.chart()\n",
    "        eX = X.frame()\n",
    "        return np.array([[float(k_form(eX[i], eX[j])(p)) for j in range(1,M.dimension()+1)] for i in range(1,M.dimension()+1)])\n",
    "    \n",
    "    if k_form.degree() == 3:\n",
    "        p = M.point(point)\n",
    "        X.<x,y,z> = M.chart()\n",
    "        eX = X.frame()\n",
    "        return np.array([[[float(k_form(eX[i], eX[j], eX[k])(p)) for k in range(1,M.dimension()+1)] for j in range(1,M.dimension()+1)] for i in range(1,M.dimension()+1)])"
   ]
  },
  {
   "cell_type": "code",
   "execution_count": 8,
   "id": "0da5e6eb",
   "metadata": {},
   "outputs": [],
   "source": [
    "def numerical_exterior_derivative(M, k_form, point, epsilon=1e-5):\n",
    "    \"\"\"\n",
    "    Sample numerical values of the exterior derivative of a k-form at a point\n",
    "    :param M: manifold\n",
    "    :param k_form: k-form to sample\n",
    "    :param point: point at which to sample\n",
    "    :return: numerical values of the exterior derivative of the k-form at the point as a tensor\n",
    "    \"\"\"\n",
    "    \n",
    "    # If the k-form is a 0-form (scalar field)\n",
    "    if k_form.degree() == 0: \n",
    "        dw = np.zeros(3)\n",
    "        directions = [np.array(np.eye(3, dtype=int)[i]) for i in range(3)]\n",
    "        point = np.array(point)\n",
    "        for i in range(3):\n",
    "            dw[i] = (1/(2*epsilon))*(numerical_sampler_kform(M, k_form, point + epsilon*directions[i]) - numerical_sampler_kform(M, k_form, point - epsilon*directions[i]))\n",
    "        \n",
    "        return dw\n",
    "    \n",
    "    # If the k-form is a 1-form\n",
    "    elif k_form.degree() == 1:\n",
    "        dw = np.zeros((3,3))\n",
    "        directions = [np.array(np.eye(3, dtype=int)[i]) for i in range(3)]\n",
    "        point = np.array(point)\n",
    "        for i in range(3):\n",
    "            for j in range(3):\n",
    "                if i!=j:\n",
    "                    dw[i,j] = (1/(2*epsilon))*(numerical_sampler_kform(M, k_form, point -  epsilon*directions[j])[i] +\\\n",
    "                                            numerical_sampler_kform(M, k_form, point +  epsilon*directions[i])[j] -\\\n",
    "                                            numerical_sampler_kform(M, k_form, point +  epsilon*directions[j])[i] -\\\n",
    "                                            numerical_sampler_kform(M, k_form, point -  epsilon*directions[i])[j])\n",
    "        \n",
    "        return dw\n",
    "    \n",
    "    elif k_form.degree() == 2:\n",
    "        dw = np.zeros((3,3,3))\n",
    "        directions = [np.array(np.eye(3, dtype=int)[i]) for i in range(3)]\n",
    "        point = np.array(point)\n",
    "        for i in range(3):\n",
    "            for j in range(3):\n",
    "                for k in range(3):\n",
    "                    if i!=j and j!=k and i!=k:\n",
    "                        dw[i,j,k] = (1/(2*epsilon))*(+numerical_sampler_kform(M, k_form, point +  epsilon*directions[i])[j,k] \\\n",
    "                                            -numerical_sampler_kform(M, k_form, point -  epsilon*directions[i])[j,k] \\\n",
    "                                            -numerical_sampler_kform(M, k_form, point +  epsilon*directions[j])[i,k] \\\n",
    "                                            +numerical_sampler_kform(M, k_form, point -  epsilon*directions[j])[i,k] \\\n",
    "                                            +numerical_sampler_kform(M, k_form, point +  epsilon*directions[k])[i,j] \\\n",
    "                                            -numerical_sampler_kform(M, k_form, point -  epsilon*directions[k])[i,j])\n",
    "                                            \n",
    "        return dw\n",
    "    \n",
    "    elif k_form.degree() >= 3:\n",
    "        assert False, \"The exterior derivative of a 3-form is a 4-form, which is not defined in 3D space.\"\n",
    "        \n",
    "        \n",
    "        "
   ]
  },
  {
   "cell_type": "code",
   "execution_count": 9,
   "id": "dbdf0009",
   "metadata": {},
   "outputs": [],
   "source": [
    "def count_inversions(arr):\n",
    "    \"\"\"Count inversions in O(n log n) time via merge sort\"\"\"\n",
    "    def merge_sort(lst):\n",
    "        if len(lst) <= 1:\n",
    "            return lst, 0\n",
    "        mid = len(lst) // 2\n",
    "        left, inv_l = merge_sort(lst[:mid])\n",
    "        right, inv_r = merge_sort(lst[mid:])\n",
    "        merged = []\n",
    "        i = j = inv_m = 0\n",
    "        while i < len(left) and j < len(right):\n",
    "            if left[i] <= right[j]:\n",
    "                merged.append(left[i])\n",
    "                i += 1\n",
    "            else:\n",
    "                merged.append(right[j])\n",
    "                inv_m += len(left) - i  # key line\n",
    "                j += 1\n",
    "        merged += left[i:]\n",
    "        merged += right[j:]\n",
    "        return merged, inv_l + inv_r + inv_m\n",
    "    _, count = merge_sort(arr)\n",
    "    return count\n",
    "\n",
    "def perm_sign(p):\n",
    "    \"\"\"Fast sign using inversion count\"\"\"\n",
    "    return 1 if count_inversions(p) % 2 == 0 else -1"
   ]
  },
  {
   "cell_type": "code",
   "execution_count": 10,
   "id": "575544bb",
   "metadata": {},
   "outputs": [
    {
     "name": "stdout",
     "output_type": "stream",
     "text": [
      "(0, 1, 2) -> sign: 1\n",
      "(0, 2, 1) -> sign: -1\n",
      "(1, 0, 2) -> sign: -1\n",
      "(1, 2, 0) -> sign: 1\n",
      "(2, 0, 1) -> sign: 1\n",
      "(2, 1, 0) -> sign: -1\n"
     ]
    }
   ],
   "source": [
    "import itertools\n",
    "\n",
    "for p in itertools.permutations([0, 1, 2]):\n",
    "    sign = perm_sign(p)\n",
    "    print(f\"{p} -> sign: {sign}\")"
   ]
  },
  {
   "cell_type": "code",
   "execution_count": 11,
   "id": "f6b15cf3",
   "metadata": {},
   "outputs": [
    {
     "data": {
      "text/plain": [
       "[(0, 1), (0, 2), (1, 2)]"
      ]
     },
     "execution_count": 11,
     "metadata": {},
     "output_type": "execute_result"
    }
   ],
   "source": [
    "list(itertools.combinations([0, 1, 2], 2))"
   ]
  },
  {
   "cell_type": "code",
   "execution_count": 12,
   "id": "fdbb028c",
   "metadata": {},
   "outputs": [
    {
     "data": {
      "text/plain": [
       "array([[0., 0., 0.],\n",
       "       [0., 0., 0.],\n",
       "       [0., 0., 0.]])"
      ]
     },
     "execution_count": 12,
     "metadata": {},
     "output_type": "execute_result"
    }
   ],
   "source": [
    "np.zeros((3,3)).transpose()"
   ]
  },
  {
   "cell_type": "code",
   "execution_count": 38,
   "id": "3e943ea9",
   "metadata": {},
   "outputs": [],
   "source": [
    "def numerical_Hodge_dual(M, k_form, point):\n",
    "    # TODO: replace  numerical_sampler_kform(M, k_form, point) by a tensor (3,3,...)\n",
    "    if k_form.degree() == 0: \n",
    "        star = np.zeros((3,3,3))\n",
    "        perms = list(itertools.permutations([0, 1, 2]))\n",
    "        for p in perms:\n",
    "            sign = perm_sign(p)\n",
    "            star[p[0], p[1], p[2]] = sign * numerical_sampler_kform(M, k_form, point)\n",
    "        return star\n",
    "    \n",
    "    elif k_form.degree() == 1:\n",
    "        star = np.zeros((3,3))\n",
    "        perms = list(itertools.combinations([0, 1, 2], 2))\n",
    "        \n",
    "        for p in perms:\n",
    "            star[p[0], p[1]] = ((-1)**(1+p[0]+p[1]))*numerical_sampler_kform(M, k_form, point)[list(set([0,1,2]) - set([p[0],p[1]]))[0]]\n",
    "        star = star - star.transpose()\n",
    "        return star\n",
    "    \n",
    "    elif k_form.degree() == 2:\n",
    "        star = np.zeros(3)\n",
    "        \n",
    "        for p in range(3):\n",
    "            star[p] = ((-1)**p)*(numerical_sampler_kform(M, k_form, point)[list(set([0,1,2]) - set([p]))[0], list(set([0,1,2]) - set([p]))[1]])\n",
    "        return star\n",
    "    \n",
    "    elif k_form.degree() == 3:\n",
    "        star = numerical_sampler_kform(M, k_form, point)[0,1,2]\n",
    "        return np.array(star)\n",
    "    \n",
    "    else:\n",
    "        assert False, \"Not defined.\"\n",
    "        \n",
    "        \n",
    "        \n",
    "        "
   ]
  },
  {
   "cell_type": "code",
   "execution_count": 37,
   "id": "28085e02",
   "metadata": {},
   "outputs": [
    {
     "name": "stdout",
     "output_type": "stream",
     "text": [
      "0\n",
      "0\n",
      "1\n"
     ]
    }
   ],
   "source": [
    "for p in list(itertools.combinations([0, 1, 2], 2)):\n",
    "    print(p[0])"
   ]
  },
  {
   "cell_type": "code",
   "execution_count": 14,
   "id": "03f0f5b4",
   "metadata": {},
   "outputs": [],
   "source": [
    "c = M.diff_form(0, name='c')\n",
    "# c[eX, 1, 2, 3] = x*y*z #dx^dy^dz\n",
    "# c.display(X)"
   ]
  },
  {
   "cell_type": "code",
   "execution_count": 40,
   "id": "0dce7c09",
   "metadata": {},
   "outputs": [
    {
     "data": {
      "text/plain": [
       "*a = x*y*z dx∧dy - x*y*z dx∧dz + x*y*z dy∧dz"
      ]
     },
     "execution_count": 40,
     "metadata": {},
     "output_type": "execute_result"
    }
   ],
   "source": [
    "a.hodge_dual().display(X)"
   ]
  },
  {
   "cell_type": "code",
   "execution_count": 29,
   "id": "ffc6253d",
   "metadata": {},
   "outputs": [
    {
     "data": {
      "text/plain": [
       "*d*da = z dy + y dz"
      ]
     },
     "execution_count": 29,
     "metadata": {},
     "output_type": "execute_result"
    }
   ],
   "source": [
    "(a.exterior_derivative().hodge_dual().exterior_derivative().hodge_dual()).display(X)"
   ]
  },
  {
   "cell_type": "code",
   "execution_count": 41,
   "id": "38065eb9",
   "metadata": {},
   "outputs": [
    {
     "data": {
      "text/plain": [
       "array([[ 0., -6.,  6.],\n",
       "       [ 6.,  0., -6.],\n",
       "       [-6.,  6.,  0.]])"
      ]
     },
     "execution_count": 41,
     "metadata": {},
     "output_type": "execute_result"
    }
   ],
   "source": [
    "numerical_Hodge_dual(M, a, (-1,2,3))"
   ]
  },
  {
   "cell_type": "code",
   "execution_count": 18,
   "id": "f4299bc1",
   "metadata": {},
   "outputs": [
    {
     "data": {
      "text/plain": [
       "[   0 -x*z -x*y]\n",
       "[ x*z    0    0]\n",
       "[ x*y    0    0]"
      ]
     },
     "execution_count": 18,
     "metadata": {},
     "output_type": "execute_result"
    }
   ],
   "source": [
    "a.exterior_derivative().comp(X.frame())[:, X]"
   ]
  },
  {
   "cell_type": "code",
   "execution_count": 22,
   "id": "b2bdaf51",
   "metadata": {},
   "outputs": [
    {
     "data": {
      "text/plain": [
       "array([[ 0., -3., -2.],\n",
       "       [ 3.,  0.,  0.],\n",
       "       [ 2.,  0.,  0.]])"
      ]
     },
     "execution_count": 22,
     "metadata": {},
     "output_type": "execute_result"
    }
   ],
   "source": [
    "numerical_exterior_derivative(M, a, (1,2,3)) "
   ]
  },
  {
   "cell_type": "code",
   "execution_count": 12,
   "id": "9835a536",
   "metadata": {},
   "outputs": [
    {
     "data": {
      "text/plain": [
       "array([0, 0, 0, 0, 0, 2*x*y^3*z - (x + 2)*y, 0, -2*x*y^3*z + (x + 2)*y, 0,\n",
       "       0, 0, -2*x*y^3*z + (x + 2)*y, 0, 0, 0, 2*x*y^3*z - (x + 2)*y, 0, 0,\n",
       "       0, 2*x*y^3*z - (x + 2)*y, 0, -2*x*y^3*z + (x + 2)*y, 0, 0, 0, 0, 0],\n",
       "      dtype=object)"
      ]
     },
     "execution_count": 12,
     "metadata": {},
     "output_type": "execute_result"
    }
   ],
   "source": [
    "k_form = b\n",
    "np.array(k_form.exterior_derivative().comp(X.frame())[:, X]).flatten()   "
   ]
  },
  {
   "cell_type": "code",
   "execution_count": 13,
   "id": "72ffc4fb",
   "metadata": {},
   "outputs": [],
   "source": [
    "def test_numerical_approximation(M, k_form, point, epsilon=1e-3):\n",
    "    \"\"\"\n",
    "    Test the numerical approximation of the exterior derivative of a k-form at a point\n",
    "    :param M: manifold\n",
    "    :param k_form: k-form to sample\n",
    "    :param point: point at which to sample\n",
    "    :return: True if the numerical approximation is close to the analytical value, False otherwise\n",
    "    \"\"\"\n",
    "    # def eval_symbolic_array(exprs, point):\n",
    "    #     values = {x: point[0], y: point[1], z: point[2]}\n",
    "    #     return np.array([float(SR(str(e)).substitute(values)) for e in exprs])\n",
    "\n",
    "    \n",
    "    # Compute the numerical exterior derivative\n",
    "    numerical_derivative = np.array(numerical_exterior_derivative(M, k_form, point, epsilon=epsilon)).flatten()\n",
    "    \n",
    "    # X.<x,y,z>= M.chart()\n",
    "    # analytic_coomp = np.array(k_form.exterior_derivative().comp(X.frame())[:, X]).flatten()     \n",
    "    # analytical_derivative = eval_symbolic_array(analytic_coomp, point)\n",
    "    analytical_derivative = np.array(numerical_sampler_kform(M, k_form.exterior_derivative(), point)).flatten()\n",
    "    \n",
    "    print(\"Flatten numerical derivative: \", numerical_derivative)\n",
    "    print(\"Flatten analytical derivative: \", analytical_derivative)\n",
    "    \n",
    "    return np.allclose(numerical_derivative, analytical_derivative, atol=epsilon)     \n",
    "        "
   ]
  },
  {
   "cell_type": "code",
   "execution_count": 14,
   "id": "2d47d034",
   "metadata": {},
   "outputs": [
    {
     "data": {
      "text/plain": [
       "array([[[  0.,   0.,   0.],\n",
       "        [  0.,   0.,  42.],\n",
       "        [  0., -42.,   0.]],\n",
       "\n",
       "       [[  0.,   0., -42.],\n",
       "        [  0.,   0.,   0.],\n",
       "        [ 42.,   0.,   0.]],\n",
       "\n",
       "       [[  0.,  42.,   0.],\n",
       "        [-42.,   0.,   0.],\n",
       "        [  0.,   0.,   0.]]])"
      ]
     },
     "execution_count": 14,
     "metadata": {},
     "output_type": "execute_result"
    }
   ],
   "source": [
    "numerical_exterior_derivative(M, b, (1,2,3))"
   ]
  },
  {
   "cell_type": "code",
   "execution_count": 15,
   "id": "c75dd301",
   "metadata": {},
   "outputs": [
    {
     "data": {
      "text/plain": [
       "db = (2*x*y^3*z - (x + 2)*y) dx∧dy∧dz"
      ]
     },
     "execution_count": 15,
     "metadata": {},
     "output_type": "execute_result"
    }
   ],
   "source": [
    "b.exterior_derivative().display(X)"
   ]
  },
  {
   "cell_type": "code",
   "execution_count": 16,
   "id": "291d21a2",
   "metadata": {},
   "outputs": [
    {
     "data": {
      "text/plain": [
       "array([  0.,   0.,   0.,   0.,   0.,  42.,   0., -42.,   0.,   0.,   0.,\n",
       "       -42.,   0.,   0.,   0.,  42.,   0.,   0.,   0.,  42.,   0., -42.,\n",
       "         0.,   0.,   0.,   0.,   0.])"
      ]
     },
     "execution_count": 16,
     "metadata": {},
     "output_type": "execute_result"
    }
   ],
   "source": [
    "np.array(numerical_sampler_kform(M, b.exterior_derivative(), (1,2,3))).flatten()"
   ]
  },
  {
   "cell_type": "code",
   "execution_count": 17,
   "id": "9d80dcab",
   "metadata": {},
   "outputs": [
    {
     "name": "stdout",
     "output_type": "stream",
     "text": [
      "Flatten numerical derivative:  [     0.              0.              0.              0.\n",
      "      0.          63070.00000007      0.         -63070.00000007\n",
      "      0.              0.              0.         -63070.00000006\n",
      "      0.              0.              0.          63070.00000007\n",
      "      0.              0.              0.          63070.00000008\n",
      "      0.         -63070.00000007      0.              0.\n",
      "      0.              0.              0.        ]\n",
      "Flatten analytical derivative:  [     0.      0.      0.      0.      0.  63070.      0. -63070.      0.\n",
      "      0.      0. -63070.      0.      0.      0.  63070.      0.      0.\n",
      "      0.  63070.      0. -63070.      0.      0.      0.      0.      0.]\n"
     ]
    },
    {
     "data": {
      "text/plain": [
       "True"
      ]
     },
     "execution_count": 17,
     "metadata": {},
     "output_type": "execute_result"
    }
   ],
   "source": [
    "test_numerical_approximation(M, b, (32,1,986))"
   ]
  }
 ],
 "metadata": {
  "kernelspec": {
   "display_name": "SageMath 10.5",
   "language": "sage",
   "name": "SageMath-10.5"
  },
  "language_info": {
   "codemirror_mode": {
    "name": "ipython",
    "version": 3
   },
   "file_extension": ".py",
   "mimetype": "text/x-python",
   "name": "python",
   "nbconvert_exporter": "python",
   "pygments_lexer": "ipython3",
   "version": "3.12.5"
  }
 },
 "nbformat": 4,
 "nbformat_minor": 5
}
