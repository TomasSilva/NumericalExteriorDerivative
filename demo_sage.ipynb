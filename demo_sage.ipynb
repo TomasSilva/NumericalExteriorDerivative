{
 "cells": [
  {
   "cell_type": "code",
   "execution_count": 460,
   "id": "c4037ec4",
   "metadata": {},
   "outputs": [],
   "source": [
    "M = Manifold(3, 'M', start_index=1)\n",
    "X.<x,y,z> = M.chart()\n",
    "# e = M.vector_frame('e')\n",
    "# de = M.coframes()[1] \n",
    "eX = X.frame()\n",
    "dX = X.coframe()\n",
    "\n"
   ]
  },
  {
   "cell_type": "code",
   "execution_count": 461,
   "id": "8c1b61ef",
   "metadata": {},
   "outputs": [
    {
     "data": {
      "text/plain": [
       "1"
      ]
     },
     "execution_count": 461,
     "metadata": {},
     "output_type": "execute_result"
    }
   ],
   "source": [
    "# Declaration of 0-form (scalar field)\n",
    "f = M.scalar_field(x^2)\n",
    "f.display()\n",
    "\n",
    "# Evaluation of 0-form\n",
    "p = M.point((1,2,3))\n",
    "f(p)\n"
   ]
  },
  {
   "cell_type": "code",
   "execution_count": 480,
   "id": "3e09712a",
   "metadata": {},
   "outputs": [
    {
     "data": {
      "text/plain": [
       "a = x*y*z dx"
      ]
     },
     "execution_count": 480,
     "metadata": {},
     "output_type": "execute_result"
    }
   ],
   "source": [
    "# Declaration 1-form\n",
    "a = M.diff_form(1, {eX:[x*y*z, 0, 0]}, name='a')\n",
    "a.display(X)\n",
    "# a[X, :] = [x*y*z, 0, x*y*z]\n",
    "# a.display(eX)\n",
    "\n",
    "# evaluation 1-form\n",
    "# a(eX[1])(p)"
   ]
  },
  {
   "cell_type": "code",
   "execution_count": 570,
   "id": "2020dfa0",
   "metadata": {},
   "outputs": [
    {
     "data": {
      "text/plain": [
       "b = x*y*z dx∧dy + y^2 dx∧dz + x^2*z dy∧dz"
      ]
     },
     "execution_count": 570,
     "metadata": {},
     "output_type": "execute_result"
    }
   ],
   "source": [
    "# Declaration 2-form\n",
    "b = M.diff_form(2, name='b')\n",
    "b[eX, 1, 2] = x*y*z #dx^dy\n",
    "b[eX, 1, 3] = y^2 #dx^dz\n",
    "b[eX, 2, 3] = z*x^2 #dy^dz\n",
    "b.display(X)\n",
    "\n",
    "\n",
    "# evaluation 1-form\n",
    "# p = M.point((1,2,3))\n",
    "# b(eX[1], eX[2])(p)"
   ]
  },
  {
   "cell_type": "code",
   "execution_count": 541,
   "id": "8e6ad357",
   "metadata": {},
   "outputs": [],
   "source": [
    "def numerical_sampler_kform(M, k_form, point):\n",
    "    \"\"\"\n",
    "    Sample numerical values of a k-form at a point\n",
    "    :param M: manifold\n",
    "    :param k_form: k-form to sample\n",
    "    :param point: point at which to sample\n",
    "    :return: numerical values of the k-form at the point as a tensor\n",
    "    \"\"\"\n",
    "    \n",
    "    # Check if the k-form is a 0-form (scalar field)\n",
    "    if k_form.degree() == 0: \n",
    "        p = M.point(point)\n",
    "        return float(k_form(p))\n",
    "    \n",
    "    if k_form.degree() == 1:\n",
    "        p = M.point(point)\n",
    "        X.<x,y,z> = M.chart()\n",
    "        eX = X.frame()\n",
    "        return np.array([float(k_form(eX[i])(p)) for i in range(1,M.dimension()+1)])\n",
    "    \n",
    "    if k_form.degree() == 2:\n",
    "        p = M.point(point)\n",
    "        X.<x,y,z> = M.chart()\n",
    "        eX = X.frame()\n",
    "        return np.array([[float(k_form(eX[i], eX[j])(p)) for j in range(1,M.dimension()+1)] for i in range(1,M.dimension()+1)])"
   ]
  },
  {
   "cell_type": "code",
   "execution_count": 582,
   "id": "0da5e6eb",
   "metadata": {},
   "outputs": [],
   "source": [
    "import numpy as np\n",
    "\n",
    "def numerical_exterior_derivative(M, k_form, point, epsilon=1e-5):\n",
    "    \"\"\"\n",
    "    Sample numerical values of the exterior derivative of a k-form at a point\n",
    "    :param M: manifold\n",
    "    :param k_form: k-form to sample\n",
    "    :param point: point at which to sample\n",
    "    :return: numerical values of the exterior derivative of the k-form at the point as a tensor\n",
    "    \"\"\"\n",
    "    \n",
    "    # If the k-form is a 0-form (scalar field)\n",
    "    if k_form.degree() == 0: \n",
    "        dw = np.zeros(3)\n",
    "        directions = [np.array(np.eye(3, dtype=int)[i]) for i in range(3)]\n",
    "        point = np.array(point)\n",
    "        for i in range(3):\n",
    "            dw[i] = (1/(2*epsilon))*(numerical_sampler_kform(M, k_form, point + epsilon*directions[i]) - numerical_sampler_kform(M, k_form, point - epsilon*directions[i]))\n",
    "        \n",
    "        return dw\n",
    "    \n",
    "    # If the k-form is a 1-form\n",
    "    elif k_form.degree() == 1:\n",
    "        dw = np.zeros((3,3))\n",
    "        directions = [np.array(np.eye(3, dtype=int)[i]) for i in range(3)]\n",
    "        point = np.array(point)\n",
    "        for i in range(3):\n",
    "            for j in range(3):\n",
    "                if i!=j:\n",
    "                    dw[i,j] = (1/(2*epsilon))*(numerical_sampler_kform(M, k_form, point -  epsilon*directions[j])[i] +\\\n",
    "                                            numerical_sampler_kform(M, k_form, point +  epsilon*directions[i])[j] -\\\n",
    "                                            numerical_sampler_kform(M, k_form, point +  epsilon*directions[j])[i] -\\\n",
    "                                            numerical_sampler_kform(M, k_form, point -  epsilon*directions[i])[j])\n",
    "        \n",
    "        return dw\n",
    "    \n",
    "    elif k_form.degree() == 2:\n",
    "        dw = np.zeros((3,3,3))\n",
    "        directions = [np.array(np.eye(3, dtype=int)[i]) for i in range(3)]\n",
    "        point = np.array(point)\n",
    "        for i in range(3):\n",
    "            for j in range(3):\n",
    "                for k in range(3):\n",
    "                    if i!=j and j!=k and i!=k:\n",
    "                        dw[i,j,k] = (1/(2*epsilon))*(+numerical_sampler_kform(M, k_form, point +  epsilon*directions[i])[j,k] -\\\n",
    "                                            numerical_sampler_kform(M, k_form, point -  epsilon*directions[i])[j,k] -\\\n",
    "                                            numerical_sampler_kform(M, k_form, point +  epsilon*directions[j])[i,k] +\\\n",
    "                                            numerical_sampler_kform(M, k_form, point -  epsilon*directions[j])[i,k] +\\\n",
    "                                            numerical_sampler_kform(M, k_form, point +  epsilon*directions[k])[i,j] -\\\n",
    "                                            numerical_sampler_kform(M, k_form, point -  epsilon*directions[k])[i,j])\n",
    "                                            \n",
    "        return dw\n",
    "        \n",
    "        "
   ]
  },
  {
   "cell_type": "code",
   "execution_count": 583,
   "id": "f4299bc1",
   "metadata": {},
   "outputs": [
    {
     "data": {
      "text/plain": [
       "[[[0, 0, 0], [0, 0, (x - 2)*y + 2*x*z], [0, -(x - 2)*y - 2*x*z, 0]],\n",
       " [[0, 0, -(x - 2)*y - 2*x*z], [0, 0, 0], [(x - 2)*y + 2*x*z, 0, 0]],\n",
       " [[0, (x - 2)*y + 2*x*z, 0], [-(x - 2)*y - 2*x*z, 0, 0], [0, 0, 0]]]"
      ]
     },
     "execution_count": 583,
     "metadata": {},
     "output_type": "execute_result"
    }
   ],
   "source": [
    "b.exterior_derivative().comp(X.frame())[:, X]"
   ]
  },
  {
   "cell_type": "code",
   "execution_count": 573,
   "id": "e5d21dc2",
   "metadata": {},
   "outputs": [
    {
     "data": {
      "text/plain": [
       "array([[[ 0.,  0.,  0.],\n",
       "        [ 0.,  0.,  4.],\n",
       "        [ 0., -4.,  0.]],\n",
       "\n",
       "       [[ 0.,  0., -4.],\n",
       "        [ 0.,  0.,  0.],\n",
       "        [ 4.,  0.,  0.]],\n",
       "\n",
       "       [[ 0.,  4.,  0.],\n",
       "        [-4.,  0.,  0.],\n",
       "        [ 0.,  0.,  0.]]])"
      ]
     },
     "execution_count": 573,
     "metadata": {},
     "output_type": "execute_result"
    }
   ],
   "source": [
    "numerical_exterior_derivative(M, b, (1,2,3))"
   ]
  },
  {
   "cell_type": "code",
   "execution_count": 574,
   "id": "9835a536",
   "metadata": {},
   "outputs": [
    {
     "data": {
      "text/plain": [
       "array([0, 0, 0, 0, 0, (x - 2)*y + 2*x*z, 0, -(x - 2)*y - 2*x*z, 0, 0, 0,\n",
       "       -(x - 2)*y - 2*x*z, 0, 0, 0, (x - 2)*y + 2*x*z, 0, 0, 0,\n",
       "       (x - 2)*y + 2*x*z, 0, -(x - 2)*y - 2*x*z, 0, 0, 0, 0, 0],\n",
       "      dtype=object)"
      ]
     },
     "execution_count": 574,
     "metadata": {},
     "output_type": "execute_result"
    }
   ],
   "source": [
    "k_form = b\n",
    "np.array(k_form.exterior_derivative().comp(X.frame())[:, X]).flatten()   "
   ]
  },
  {
   "cell_type": "code",
   "execution_count": 554,
   "id": "72ffc4fb",
   "metadata": {},
   "outputs": [],
   "source": [
    "def test_numerical_approximation(M, k_form, point, epsilon=1e-3):\n",
    "    \"\"\"\n",
    "    Test the numerical approximation of the exterior derivative of a k-form at a point\n",
    "    :param M: manifold\n",
    "    :param k_form: k-form to sample\n",
    "    :param point: point at which to sample\n",
    "    :return: True if the numerical approximation is close to the analytical value, False otherwise\n",
    "    \"\"\"\n",
    "    def eval_symbolic_array(exprs, point):\n",
    "        values = {x: point[0], y: point[1], z: point[2]}\n",
    "        return np.array([float(SR(str(e)).substitute(values)) for e in exprs])\n",
    "\n",
    "    \n",
    "    # Compute the numerical exterior derivative\n",
    "    numerical_derivative = np.array(numerical_exterior_derivative(M, k_form, point, epsilon=epsilon)).flatten()\n",
    "    \n",
    "    X.<x,y,z>= M.chart()\n",
    "    analytic_coomp = np.array(k_form.exterior_derivative().comp(X.frame())[:, X]).flatten()     \n",
    "    analytical_derivative = eval_symbolic_array(analytic_coomp, point)\n",
    "    \n",
    "    print(\"Flatten numerical derivative: \", numerical_derivative)\n",
    "    print(\"Flatten analytical derivative: \", analytical_derivative)\n",
    "    \n",
    "    return np.allclose(numerical_derivative, analytical_derivative, atol=epsilon)     \n",
    "        "
   ]
  },
  {
   "cell_type": "code",
   "execution_count": 581,
   "id": "9d80dcab",
   "metadata": {},
   "outputs": [
    {
     "name": "stdout",
     "output_type": "stream",
     "text": [
      "Flatten numerical derivative:  [     0.              0.              0.              0.\n",
      "      0.         -70617.99999978      0.          70617.99999951\n",
      "      0.              0.              0.          70617.99999978\n",
      "      0.              0.              0.         -70617.99999955\n",
      "      0.              0.              0.         -70617.99999975\n",
      "      0.          70617.99999973      0.              0.\n",
      "      0.              0.              0.        ]\n",
      "Flatten analytical derivative:  [     0.      0.      0.      0.      0. -70618.      0.  70618.      0.\n",
      "      0.      0.  70618.      0.      0.      0. -70618.      0.      0.\n",
      "      0. -70618.      0.  70618.      0.      0.      0.      0.      0.]\n"
     ]
    },
    {
     "data": {
      "text/plain": [
       "True"
      ]
     },
     "execution_count": 581,
     "metadata": {},
     "output_type": "execute_result"
    }
   ],
   "source": [
    "test_numerical_approximation(M, b, (-32,221,986))"
   ]
  }
 ],
 "metadata": {
  "kernelspec": {
   "display_name": "SageMath 10.5",
   "language": "sage",
   "name": "SageMath-10.5"
  },
  "language_info": {
   "codemirror_mode": {
    "name": "ipython",
    "version": 3
   },
   "file_extension": ".py",
   "mimetype": "text/x-python",
   "name": "python",
   "nbconvert_exporter": "python",
   "pygments_lexer": "ipython3",
   "version": "3.12.5"
  }
 },
 "nbformat": 4,
 "nbformat_minor": 5
}
